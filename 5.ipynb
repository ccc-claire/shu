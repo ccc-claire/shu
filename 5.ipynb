{
 "cells": [
  {
   "cell_type": "code",
   "execution_count": 1,
   "metadata": {},
   "outputs": [
    {
     "name": "stdout",
     "output_type": "stream",
     "text": [
      "X = 70\n"
     ]
    }
   ],
   "source": [
    "X = 65\n",
    "if X>60:\n",
    "    X = X+5\n",
    "print('X = %d'%(X))"
   ]
  },
  {
   "cell_type": "code",
   "execution_count": 6,
   "metadata": {},
   "outputs": [
    {
     "name": "stdout",
     "output_type": "stream",
     "text": [
      "請輸入分子125\n",
      "請輸入分母25\n",
      "125 / 25 = 5.0\n",
      "Over\n"
     ]
    }
   ],
   "source": [
    "numerator = eval(input(\"請輸入分子\"))\n",
    "denominator = eval(input(\"請輸入分母\"))\n",
    "if denominator != 0 :\n",
    "   ans = numerator/denominator\n",
    "   print(numerator,\"/\",denominator,\"=\",ans)\n",
    "print(\"Over\")"
   ]
  },
  {
   "cell_type": "code",
   "execution_count": 7,
   "metadata": {},
   "outputs": [
    {
     "name": "stdout",
     "output_type": "stream",
     "text": [
      "請輸入分子125\n",
      "請輸入分母0\n",
      "Over\n"
     ]
    }
   ],
   "source": [
    "numerator = eval(input(\"請輸入分子\"))\n",
    "denominator = eval(input(\"請輸入分母\"))\n",
    "if denominator != 0 :\n",
    "   ans = numerator/denominator\n",
    "   print(numerator,\"/\",denominator,\"=\",ans)\n",
    "print(\"Over\")"
   ]
  },
  {
   "cell_type": "code",
   "execution_count": 9,
   "metadata": {},
   "outputs": [
    {
     "name": "stdout",
     "output_type": "stream",
     "text": [
      "Please input a number:125\n",
      "125 is 5's multiple\n",
      "Over\n"
     ]
    }
   ],
   "source": [
    "number = eval(input(\"Please input a number:\"))\n",
    "if number % 5 == 0:\n",
    "    print(number,\"is 5's multiple\")\n",
    "print(\"Over\")"
   ]
  },
  {
   "cell_type": "code",
   "execution_count": 12,
   "metadata": {},
   "outputs": [
    {
     "name": "stdout",
     "output_type": "stream",
     "text": [
      "請輸入分子:125\n"
     ]
    },
    {
     "ename": "NameError",
     "evalue": "name 'inpuut' is not defined",
     "output_type": "error",
     "traceback": [
      "\u001b[1;31m---------------------------------------------------------------------------\u001b[0m",
      "\u001b[1;31mNameError\u001b[0m                                 Traceback (most recent call last)",
      "\u001b[1;32m<ipython-input-12-3a8a348478f0>\u001b[0m in \u001b[0;36m<module>\u001b[1;34m\u001b[0m\n\u001b[0;32m      1\u001b[0m \u001b[0mnumerator\u001b[0m \u001b[1;33m=\u001b[0m \u001b[0meval\u001b[0m\u001b[1;33m(\u001b[0m\u001b[0minput\u001b[0m\u001b[1;33m(\u001b[0m\u001b[1;34m\"請輸入分子:\"\u001b[0m\u001b[1;33m)\u001b[0m\u001b[1;33m)\u001b[0m\u001b[1;33m\u001b[0m\u001b[1;33m\u001b[0m\u001b[0m\n\u001b[1;32m----> 2\u001b[1;33m \u001b[0mdenominator\u001b[0m \u001b[1;33m=\u001b[0m \u001b[0meval\u001b[0m\u001b[1;33m(\u001b[0m\u001b[0minpuut\u001b[0m\u001b[1;33m(\u001b[0m\u001b[1;34m\"請輸入分母:\"\u001b[0m\u001b[1;33m)\u001b[0m\u001b[1;33m)\u001b[0m\u001b[1;33m\u001b[0m\u001b[1;33m\u001b[0m\u001b[0m\n\u001b[0m\u001b[0;32m      3\u001b[0m \u001b[1;32mif\u001b[0m \u001b[0mdenominator\u001b[0m \u001b[1;33m!=\u001b[0m \u001b[1;36m0\u001b[0m\u001b[1;33m:\u001b[0m\u001b[1;33m\u001b[0m\u001b[1;33m\u001b[0m\u001b[0m\n\u001b[0;32m      4\u001b[0m     \u001b[0mans\u001b[0m \u001b[1;33m=\u001b[0m \u001b[0mnumerator\u001b[0m\u001b[1;33m/\u001b[0m\u001b[0mdenominator\u001b[0m\u001b[1;33m\u001b[0m\u001b[1;33m\u001b[0m\u001b[0m\n\u001b[0;32m      5\u001b[0m     \u001b[0mprint\u001b[0m\u001b[1;33m(\u001b[0m\u001b[0mnumerator\u001b[0m\u001b[1;33m,\u001b[0m\u001b[1;34m\"/\"\u001b[0m\u001b[1;33m,\u001b[0m\u001b[0mdenominator\u001b[0m\u001b[1;33m,\u001b[0m\u001b[1;34m\"=\"\u001b[0m\u001b[1;33m,\u001b[0m\u001b[0mans\u001b[0m\u001b[1;33m)\u001b[0m\u001b[1;33m\u001b[0m\u001b[1;33m\u001b[0m\u001b[0m\n",
      "\u001b[1;31mNameError\u001b[0m: name 'inpuut' is not defined"
     ]
    }
   ],
   "source": [
    "numerator = eval(input(\"請輸入分子:\"))\n",
    "denominator = eval(inpuut(\"請輸入分母:\"))\n",
    "if denominator != 0:\n",
    "    ans = numerator/denominator\n",
    "    print(numerator,\"/\",denominator,\"=\",ans)\n",
    "else:\n",
    "    print(\"分母不可為0\")\n",
    "print(\"Over\")"
   ]
  },
  {
   "cell_type": "code",
   "execution_count": 16,
   "metadata": {},
   "outputs": [
    {
     "name": "stdout",
     "output_type": "stream",
     "text": [
      "Please input a number:88\n",
      "88 is an even number.\n",
      "Over\n"
     ]
    }
   ],
   "source": [
    "num = eval(input(\"Please input a number:\"))\n",
    "if num %2 == 0:\n",
    "    print(num,\"is an even number.\")\n",
    "else:\n",
    "    print(num,\"is a odd number.\")\n",
    "print(\"Over\")"
   ]
  },
  {
   "cell_type": "code",
   "execution_count": 17,
   "metadata": {},
   "outputs": [
    {
     "name": "stdout",
     "output_type": "stream",
     "text": [
      "Please input a number:89\n",
      "89 is a odd number.\n",
      "Over\n"
     ]
    }
   ],
   "source": [
    "num = eval(input(\"Please input a number:\"))\n",
    "if num %2 == 0:\n",
    "    print(num,\"is an even number.\")\n",
    "else:\n",
    "    print(num,\"is a odd number.\")\n",
    "print(\"Over\")"
   ]
  },
  {
   "cell_type": "code",
   "execution_count": 19,
   "metadata": {},
   "outputs": [
    {
     "name": "stdout",
     "output_type": "stream",
     "text": [
      "Please input a number:20\n",
      "20 is greater than 0\n",
      "Over\n"
     ]
    }
   ],
   "source": [
    "number = eval(input(\"Please input a number:\"))\n",
    "if number>0:\n",
    "    print(number,\"is greater than 0\")\n",
    "else:\n",
    "    if number>0:\n",
    "        print(number,\"is less than 0\")\n",
    "    else:\n",
    "        print(number,\"is equal to 0\")\n",
    "print(\"Over\")"
   ]
  },
  {
   "cell_type": "code",
   "execution_count": 20,
   "metadata": {},
   "outputs": [
    {
     "name": "stdout",
     "output_type": "stream",
     "text": [
      "Please input a number:-10\n",
      "-10 is equal to 0\n",
      "Over\n"
     ]
    }
   ],
   "source": [
    "number = eval(input(\"Please input a number:\"))\n",
    "if number>0:\n",
    "    print(number,\"is greater than 0\")\n",
    "else:\n",
    "    if number>0:\n",
    "        print(number,\"is less than 0\")\n",
    "    else:\n",
    "        print(number,\"is equal to 0\")\n",
    "print(\"Over\")"
   ]
  },
  {
   "cell_type": "code",
   "execution_count": 21,
   "metadata": {},
   "outputs": [
    {
     "name": "stdout",
     "output_type": "stream",
     "text": [
      "Please input a number:0\n",
      "0 is equal to 0\n",
      "Over\n"
     ]
    }
   ],
   "source": [
    "number = eval(input(\"Please input a number:\"))\n",
    "if number>0:\n",
    "    print(number,\"is greater than 0\")\n",
    "else:\n",
    "    if number>0:\n",
    "        print(number,\"is less than 0\")\n",
    "    else:\n",
    "        print(number,\"is equal to 0\")\n",
    "print(\"Over\")"
   ]
  },
  {
   "cell_type": "code",
   "execution_count": null,
   "metadata": {},
   "outputs": [],
   "source": []
  }
 ],
 "metadata": {
  "kernelspec": {
   "display_name": "Python 3",
   "language": "python",
   "name": "python3"
  },
  "language_info": {
   "codemirror_mode": {
    "name": "ipython",
    "version": 3
   },
   "file_extension": ".py",
   "mimetype": "text/x-python",
   "name": "python",
   "nbconvert_exporter": "python",
   "pygments_lexer": "ipython3",
   "version": "3.8.3"
  }
 },
 "nbformat": 4,
 "nbformat_minor": 4
}
