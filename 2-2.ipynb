{
 "cells": [
  {
   "cell_type": "code",
   "execution_count": 3,
   "metadata": {},
   "outputs": [
    {
     "name": "stdout",
     "output_type": "stream",
     "text": [
      "     100\n"
     ]
    }
   ],
   "source": [
    "print (format (100,'8d'))"
   ]
  },
  {
   "cell_type": "code",
   "execution_count": 4,
   "metadata": {},
   "outputs": [
    {
     "name": "stdout",
     "output_type": "stream",
     "text": [
      "100000\n"
     ]
    }
   ],
   "source": [
    "print (format (100000,'3d'))"
   ]
  },
  {
   "cell_type": "code",
   "execution_count": 5,
   "metadata": {},
   "outputs": [
    {
     "name": "stdout",
     "output_type": "stream",
     "text": [
      "      64\n"
     ]
    }
   ],
   "source": [
    "print (format (100,'8x'))"
   ]
  },
  {
   "cell_type": "code",
   "execution_count": 6,
   "metadata": {},
   "outputs": [
    {
     "name": "stdout",
     "output_type": "stream",
     "text": [
      "     144\n"
     ]
    }
   ],
   "source": [
    "print (format (100,'8o'))"
   ]
  },
  {
   "cell_type": "code",
   "execution_count": 7,
   "metadata": {},
   "outputs": [
    {
     "name": "stdout",
     "output_type": "stream",
     "text": [
      " 1100100\n"
     ]
    }
   ],
   "source": [
    "print (format (100,'8b'))"
   ]
  },
  {
   "cell_type": "code",
   "execution_count": 1,
   "metadata": {},
   "outputs": [
    {
     "name": "stdout",
     "output_type": "stream",
     "text": [
      "23.89%\n"
     ]
    }
   ],
   "source": [
    "print (format (0.2389, '6.2%'))"
   ]
  },
  {
   "cell_type": "code",
   "execution_count": 2,
   "metadata": {},
   "outputs": [
    {
     "name": "stdout",
     "output_type": "stream",
     "text": [
      "  123.46\n"
     ]
    }
   ],
   "source": [
    "print (format (123.456, '8.2f'))"
   ]
  },
  {
   "cell_type": "code",
   "execution_count": 3,
   "metadata": {},
   "outputs": [
    {
     "name": "stdout",
     "output_type": "stream",
     "text": [
      "Python is fun  \n"
     ]
    }
   ],
   "source": [
    "print (format ('Python is fun','15s'))"
   ]
  },
  {
   "cell_type": "code",
   "execution_count": 4,
   "metadata": {},
   "outputs": [
    {
     "name": "stdout",
     "output_type": "stream",
     "text": [
      "  Python is fun\n"
     ]
    }
   ],
   "source": [
    "print (format ('Python is fun','>15s'))"
   ]
  },
  {
   "cell_type": "code",
   "execution_count": 5,
   "metadata": {},
   "outputs": [
    {
     "name": "stdout",
     "output_type": "stream",
     "text": [
      "     12345\n"
     ]
    }
   ],
   "source": [
    "print (format (12345,'10d'))"
   ]
  },
  {
   "cell_type": "code",
   "execution_count": 6,
   "metadata": {},
   "outputs": [
    {
     "name": "stdout",
     "output_type": "stream",
     "text": [
      "12345     \n"
     ]
    }
   ],
   "source": [
    "print (format (12345,'<10d'))"
   ]
  },
  {
   "cell_type": "code",
   "execution_count": 7,
   "metadata": {},
   "outputs": [
    {
     "name": "stdout",
     "output_type": "stream",
     "text": [
      "   12345   \n"
     ]
    }
   ],
   "source": [
    "print (format (12345,'^11d'))"
   ]
  },
  {
   "cell_type": "code",
   "execution_count": 8,
   "metadata": {},
   "outputs": [
    {
     "name": "stdout",
     "output_type": "stream",
     "text": [
      "12345 12 1234567\n",
      "12 1234567 12345\n",
      "1234567 12345 12\n"
     ]
    }
   ],
   "source": [
    "print (12345,12,1234567)\n",
    "print (12,1234567,12345)\n",
    "print (1234567,12345,12)"
   ]
  },
  {
   "cell_type": "code",
   "execution_count": 1,
   "metadata": {},
   "outputs": [
    {
     "name": "stdout",
     "output_type": "stream",
     "text": [
      "     12345        12   1234567\n",
      "        12   1234567     12345\n",
      "   1234567     12345        12\n"
     ]
    }
   ],
   "source": [
    "print (format (12345,'10d'), end ='')\n",
    "print (format (12,'10d'), end ='')\n",
    "print (format (1234567,'10d'))\n",
    "\n",
    "\n",
    "print (format (12,'10d'), end ='')\n",
    "print (format (1234567,'10d'), end ='')\n",
    "print (format (12345,'10d'))\n",
    "\n",
    "print (format (1234567,'10d'), end ='')\n",
    "print (format (12345,'10d'), end ='')\n",
    "print (format (12,'10d'))"
   ]
  },
  {
   "cell_type": "code",
   "execution_count": 2,
   "metadata": {},
   "outputs": [
    {
     "name": "stdout",
     "output_type": "stream",
     "text": [
      "     12345         12    1234567\n",
      "        12    1234567      12345\n",
      "   1234567      12345         12\n"
     ]
    }
   ],
   "source": [
    "print (format (12345,'10d'),format (12,'10d'),format (1234567,'10d'))\n",
    "print (format (12,'10d'),format (1234567,'10d'),format (12345,'10d'))\n",
    "print (format (1234567,'10d'),format (12345,'10d'),format (12,'10d'))"
   ]
  },
  {
   "cell_type": "code",
   "execution_count": 3,
   "metadata": {},
   "outputs": [
    {
     "name": "stdout",
     "output_type": "stream",
     "text": [
      "     12345\n"
     ]
    }
   ],
   "source": [
    "print ('%10d'% (12345))"
   ]
  },
  {
   "cell_type": "code",
   "execution_count": 1,
   "metadata": {},
   "outputs": [
    {
     "name": "stdout",
     "output_type": "stream",
     "text": [
      "|     12345|\n"
     ]
    }
   ],
   "source": [
    "print ('|%10d|'% (12345))"
   ]
  },
  {
   "cell_type": "code",
   "execution_count": 2,
   "metadata": {},
   "outputs": [
    {
     "name": "stdout",
     "output_type": "stream",
     "text": [
      "|12345|\n"
     ]
    }
   ],
   "source": [
    "print ('|%3d|'%(12345))"
   ]
  },
  {
   "cell_type": "code",
   "execution_count": 3,
   "metadata": {},
   "outputs": [
    {
     "name": "stdout",
     "output_type": "stream",
     "text": [
      "|12345     |\n"
     ]
    }
   ],
   "source": [
    "print ('|%-10d|'%(12345))"
   ]
  },
  {
   "cell_type": "code",
   "execution_count": 5,
   "metadata": {},
   "outputs": [
    {
     "name": "stdout",
     "output_type": "stream",
     "text": [
      "|  123.46|\n",
      "|    1.23|\n",
      "| 1234.56|\n",
      "|   12.35|\n",
      "|12345.60|\n"
     ]
    }
   ],
   "source": [
    "print ('|%8.2f|'%(123.456))\n",
    "print ('|%8.2f|'%(1.23456))\n",
    "print ('|%8.2f|'%(1234.56))\n",
    "print ('|%8.2f|'%(12.3456))\n",
    "print ('|%8.2f|'%(12345.6))"
   ]
  },
  {
   "cell_type": "code",
   "execution_count": 6,
   "metadata": {},
   "outputs": [
    {
     "name": "stdout",
     "output_type": "stream",
     "text": [
      "|123.46|\n",
      "|1.23|\n",
      "|1234.56|\n",
      "|12.35|\n",
      "|12345.60|\n"
     ]
    }
   ],
   "source": [
    "print ('|%.2f|'%(123.456))\n",
    "print ('|%.2f|'%(1.23456))\n",
    "print ('|%.2f|'%(1234.56))\n",
    "print ('|%.2f|'%(12.3456))\n",
    "print ('|%.2f|'%(12345.6))"
   ]
  },
  {
   "cell_type": "code",
   "execution_count": 9,
   "metadata": {},
   "outputs": [
    {
     "name": "stdout",
     "output_type": "stream",
     "text": [
      "|          Learning Python now!|\n",
      "|Learning Python now!          |\n",
      "|Learning Python now!|\n"
     ]
    }
   ],
   "source": [
    "print ('|%30s|'%('Learning Python now!'))\n",
    "print ('|%-30s|'%('Learning Python now!'))\n",
    "print ('|%15s|'%('Learning Python now!'))"
   ]
  },
  {
   "cell_type": "code",
   "execution_count": 10,
   "metadata": {},
   "outputs": [
    {
     "name": "stdout",
     "output_type": "stream",
     "text": [
      "width =  5, height =  7, area =  24\n"
     ]
    }
   ],
   "source": [
    "print ('width = %2d, height = %2d, area = %3d' %(5,7,24))"
   ]
  },
  {
   "cell_type": "code",
   "execution_count": 11,
   "metadata": {},
   "outputs": [
    {
     "name": "stdout",
     "output_type": "stream",
     "text": [
      "     12345        12   1234567\n",
      "        12   1234567     12345\n",
      "   1234567     12345        12\n"
     ]
    }
   ],
   "source": [
    "print ('%10d%10d%10d'%(12345,12,1234567))\n",
    "print ('%10d%10d%10d'%(12,1234567,12345))\n",
    "print ('%10d%10d%10d'%(1234567,12345,12))"
   ]
  },
  {
   "cell_type": "code",
   "execution_count": 12,
   "metadata": {},
   "outputs": [
    {
     "name": "stdout",
     "output_type": "stream",
     "text": [
      "100% orange juice\n"
     ]
    }
   ],
   "source": [
    "print ('%d%% orange juice'%(100))"
   ]
  },
  {
   "cell_type": "code",
   "execution_count": 13,
   "metadata": {},
   "outputs": [
    {
     "name": "stdout",
     "output_type": "stream",
     "text": [
      "123\n",
      "123,12345\n",
      "  123,  12345\n",
      "x=  123, y=  12345\n"
     ]
    },
    {
     "ename": "KeyError",
     "evalue": "'p'",
     "output_type": "error",
     "traceback": [
      "\u001b[1;31m---------------------------------------------------------------------------\u001b[0m",
      "\u001b[1;31mKeyError\u001b[0m                                  Traceback (most recent call last)",
      "\u001b[1;32m<ipython-input-13-90c6ec1e5fd3>\u001b[0m in \u001b[0;36m<module>\u001b[1;34m\u001b[0m\n\u001b[0;32m      3\u001b[0m \u001b[0mprint\u001b[0m \u001b[1;33m(\u001b[0m\u001b[1;34m'{0:5d},{1:7d}'\u001b[0m\u001b[1;33m.\u001b[0m\u001b[0mformat\u001b[0m\u001b[1;33m(\u001b[0m\u001b[1;36m123\u001b[0m\u001b[1;33m,\u001b[0m\u001b[1;36m12345\u001b[0m\u001b[1;33m)\u001b[0m\u001b[1;33m)\u001b[0m\u001b[1;33m\u001b[0m\u001b[1;33m\u001b[0m\u001b[0m\n\u001b[0;32m      4\u001b[0m \u001b[0mprint\u001b[0m \u001b[1;33m(\u001b[0m\u001b[1;34m'x={0:5d}, y={1:7d}'\u001b[0m\u001b[1;33m.\u001b[0m\u001b[0mformat\u001b[0m\u001b[1;33m(\u001b[0m\u001b[1;36m123\u001b[0m\u001b[1;33m,\u001b[0m\u001b[1;36m12345\u001b[0m\u001b[1;33m)\u001b[0m\u001b[1;33m)\u001b[0m\u001b[1;33m\u001b[0m\u001b[1;33m\u001b[0m\u001b[0m\n\u001b[1;32m----> 5\u001b[1;33m \u001b[0mprint\u001b[0m \u001b[1;33m(\u001b[0m\u001b[1;34m'x={p:5d}, y={q:7d}'\u001b[0m\u001b[1;33m.\u001b[0m\u001b[0mformat\u001b[0m\u001b[1;33m(\u001b[0m\u001b[1;36m123\u001b[0m\u001b[1;33m,\u001b[0m\u001b[1;36m12345\u001b[0m\u001b[1;33m)\u001b[0m\u001b[1;33m)\u001b[0m\u001b[1;33m\u001b[0m\u001b[1;33m\u001b[0m\u001b[0m\n\u001b[0m\u001b[0;32m      6\u001b[0m \u001b[0mprint\u001b[0m \u001b[1;33m(\u001b[0m\u001b[1;34m'a={0:7.2f}, b={1:9.2f}'\u001b[0m\u001b[1;33m.\u001b[0m\u001b[0mformat\u001b[0m\u001b[1;33m(\u001b[0m\u001b[1;36m123\u001b[0m\u001b[1;33m,\u001b[0m\u001b[1;36m12345\u001b[0m\u001b[1;33m)\u001b[0m\u001b[1;33m)\u001b[0m\u001b[1;33m\u001b[0m\u001b[1;33m\u001b[0m\u001b[0m\n\u001b[0;32m      7\u001b[0m \u001b[0mprint\u001b[0m \u001b[1;33m(\u001b[0m\u001b[1;34m'{p:9s},{q:7s}'\u001b[0m\u001b[1;33m.\u001b[0m\u001b[0mformat\u001b[0m\u001b[1;33m(\u001b[0m\u001b[0mp\u001b[0m\u001b[1;33m=\u001b[0m\u001b[1;34m'Kiwi'\u001b[0m\u001b[1;33m,\u001b[0m\u001b[0mq\u001b[0m\u001b[1;33m=\u001b[0m\u001b[1;34m'Banana'\u001b[0m\u001b[1;33m)\u001b[0m\u001b[1;33m)\u001b[0m\u001b[1;33m\u001b[0m\u001b[1;33m\u001b[0m\u001b[0m\n",
      "\u001b[1;31mKeyError\u001b[0m: 'p'"
     ]
    }
   ],
   "source": [
    "print ('{0}'.format(123))\n",
    "print ('{0},{1}'.format(123,12345))\n",
    "print ('{0:5d},{1:7d}'.format(123,12345))\n",
    "print ('x={0:5d}, y={1:7d}'.format(123,12345))\n",
    "print ('x={p:5d}, y={q:7d}'.format(123,12345))\n",
    "print ('a={0:7.2f}, b={1:9.2f}'.format(123,12345))\n",
    "print ('{p:9s},{q:7s}'.format(p='Kiwi',q='Banana'))\n",
    "print ('{p:>9s},{q:>9s}'.format(p='Kiwi',q='Banana'))\n",
    "print ('{p:^9s},{q:^9s}'.format(p='Kiwi',q='Banana'))"
   ]
  },
  {
   "cell_type": "code",
   "execution_count": null,
   "metadata": {},
   "outputs": [],
   "source": []
  }
 ],
 "metadata": {
  "kernelspec": {
   "display_name": "Python 3",
   "language": "python",
   "name": "python3"
  },
  "language_info": {
   "codemirror_mode": {
    "name": "ipython",
    "version": 3
   },
   "file_extension": ".py",
   "mimetype": "text/x-python",
   "name": "python",
   "nbconvert_exporter": "python",
   "pygments_lexer": "ipython3",
   "version": "3.8.3"
  }
 },
 "nbformat": 4,
 "nbformat_minor": 4
}
